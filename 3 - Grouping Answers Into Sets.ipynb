{
 "cells": [
  {
   "cell_type": "markdown",
   "metadata": {},
   "source": [
    "# Decision Tree Data Outcomes\n",
    "\n",
    "This module requires the completion of [the initial data loading module](1%20-%20Loading%20Decision%20Tree%20Data.ipynb).  Please complete this module before continuing.\n",
    "\n",
    "As stated in the previous modules, the decision tree data focuses around determining what drink we want at starbucks.  The decision tree assists users by narrowing down the amount of answers required to describe a regulatory document.  How can we make use of this decision tree?  This module connects answers together with `Set` nodes.  These represent groups of valid responses for a particular document."
   ]
  },
  {
   "cell_type": "code",
   "execution_count": 2,
   "metadata": {},
   "outputs": [],
   "source": [
    "# Import os utilities\n",
    "import os\n",
    "from string import Template\n",
    "import pandas as pd\n",
    "\n",
    "# Import Python 2 Neo4J Package\n",
    "from py2neo import Graph\n",
    "\n",
    "# Connect to our Graph database, ensure connectivity, and store connection in variable.\n",
    "graph = Graph(\"bolt://localhost\", auth=(\"neo4j\", \"123changeme\"));\n",
    "\n",
    "# Set up a local path reference\n",
    "rel_path = os.getcwd()"
   ]
  },
  {
   "cell_type": "markdown",
   "metadata": {},
   "source": [
    "The `sets.csv` file contains mock data, but the concepts remains the same.  We should be able to determine what drinks apply based on user input in the form of answers."
   ]
  },
  {
   "cell_type": "code",
   "execution_count": 3,
   "metadata": {},
   "outputs": [],
   "source": [
    "# This file contains scans our tool ran on presidential candidates.\n",
    "sets_file = \"file:\" + os.path.join(rel_path, \"sets.csv\");"
   ]
  },
  {
   "cell_type": "code",
   "execution_count": 4,
   "metadata": {},
   "outputs": [
    {
     "data": {
      "text/plain": [
       "{}"
      ]
     },
     "metadata": {},
     "output_type": "display_data"
    },
    {
     "data": {
      "text/plain": [
       "{'labels_added': 5, 'relationships_created': 27, 'nodes_created': 5, 'properties_set': 32}"
      ]
     },
     "metadata": {},
     "output_type": "display_data"
    }
   ],
   "source": [
    "import_query = \"\"\"\n",
    "LOAD CSV WITH HEADERS FROM $setsFile AS set\n",
    "WITH set WHERE set.id IS NOT NULL AND set.answer IS NOT NULL\n",
    "MERGE (s:Set { id: toInt(set.id) })\n",
    "SET s.value = set.name\n",
    "WITH s, set\n",
    "MATCH (a:Answer { id: toInt(set.answer) })\n",
    "CREATE UNIQUE (s)-[:GROUPS]->(a)\n",
    "\"\"\"\n",
    "\n",
    "display(graph.run(\"CREATE CONSTRAINT ON (s:Set) ASSERT s.id IS UNIQUE\").summary().counters)\n",
    "display(graph.run(import_query, { \"setsFile\": sets_file }).summary().counters)"
   ]
  },
  {
   "cell_type": "markdown",
   "metadata": {},
   "source": [
    "## Data Loaded\n",
    "\n",
    "Now we have a handful of sets created that are connected to multiple answers.  We will be able to map a group of answers to all possible resulting sets.\n",
    "\n",
    "&nbsp;\n",
    "\n",
    "<div align=\"left\">\n",
    "    <img src=\"images/set_groups.png\" alt=\"Graph Model\" width=\"700px\" align=\"center\"/>\n",
    "</div>\n",
    "\n",
    "&nbsp;\n",
    "\n",
    "Let's check out what sets were created in the database.  The following query gives us all nodes with the label `Set` in the database."
   ]
  },
  {
   "cell_type": "code",
   "execution_count": 6,
   "metadata": {},
   "outputs": [
    {
     "data": {
      "text/html": [
       "<div>\n",
       "<style scoped>\n",
       "    .dataframe tbody tr th:only-of-type {\n",
       "        vertical-align: middle;\n",
       "    }\n",
       "\n",
       "    .dataframe tbody tr th {\n",
       "        vertical-align: top;\n",
       "    }\n",
       "\n",
       "    .dataframe thead th {\n",
       "        text-align: right;\n",
       "    }\n",
       "</style>\n",
       "<table border=\"1\" class=\"dataframe\">\n",
       "  <thead>\n",
       "    <tr style=\"text-align: right;\">\n",
       "      <th></th>\n",
       "      <th>ID</th>\n",
       "      <th>Value</th>\n",
       "    </tr>\n",
       "  </thead>\n",
       "  <tbody>\n",
       "    <tr>\n",
       "      <th>0</th>\n",
       "      <td>1</td>\n",
       "      <td>Tall Iced Coffee</td>\n",
       "    </tr>\n",
       "    <tr>\n",
       "      <th>1</th>\n",
       "      <td>2</td>\n",
       "      <td>Grande Java Chip Frappucino</td>\n",
       "    </tr>\n",
       "    <tr>\n",
       "      <th>2</th>\n",
       "      <td>3</td>\n",
       "      <td>Venti Caremet Macchiato</td>\n",
       "    </tr>\n",
       "    <tr>\n",
       "      <th>3</th>\n",
       "      <td>4</td>\n",
       "      <td>Tall Fuzzy Peach Tea</td>\n",
       "    </tr>\n",
       "    <tr>\n",
       "      <th>4</th>\n",
       "      <td>5</td>\n",
       "      <td>Grande Pumpkin Spice Frappucino</td>\n",
       "    </tr>\n",
       "  </tbody>\n",
       "</table>\n",
       "</div>"
      ],
      "text/plain": [
       "   ID                            Value\n",
       "0   1                 Tall Iced Coffee\n",
       "1   2      Grande Java Chip Frappucino\n",
       "2   3          Venti Caremet Macchiato\n",
       "3   4             Tall Fuzzy Peach Tea\n",
       "4   5  Grande Pumpkin Spice Frappucino"
      ]
     },
     "metadata": {},
     "output_type": "display_data"
    }
   ],
   "source": [
    "result = graph.run(\"MATCH (s:Set) RETURN s.id AS ID, s.value AS Value\");\n",
    "table = result.to_data_frame(columns=['ID', 'Value']);\n",
    "\n",
    "display(table);"
   ]
  },
  {
   "cell_type": "markdown",
   "metadata": {},
   "source": [
    "It looks like there are only five `Sets` defined in the data.  The following query looks at the relationship between a `Set` and `Answers`."
   ]
  },
  {
   "cell_type": "code",
   "execution_count": 10,
   "metadata": {},
   "outputs": [
    {
     "data": {
      "text/html": [
       "<div>\n",
       "<style scoped>\n",
       "    .dataframe tbody tr th:only-of-type {\n",
       "        vertical-align: middle;\n",
       "    }\n",
       "\n",
       "    .dataframe tbody tr th {\n",
       "        vertical-align: top;\n",
       "    }\n",
       "\n",
       "    .dataframe thead th {\n",
       "        text-align: right;\n",
       "    }\n",
       "</style>\n",
       "<table border=\"1\" class=\"dataframe\">\n",
       "  <thead>\n",
       "    <tr style=\"text-align: right;\">\n",
       "      <th></th>\n",
       "      <th>Set</th>\n",
       "      <th>Question</th>\n",
       "      <th>Answer</th>\n",
       "      <th>Answer_ID</th>\n",
       "    </tr>\n",
       "  </thead>\n",
       "  <tbody>\n",
       "    <tr>\n",
       "      <th>0</th>\n",
       "      <td>Tall Iced Coffee</td>\n",
       "      <td>Size</td>\n",
       "      <td>Tall</td>\n",
       "      <td>11</td>\n",
       "    </tr>\n",
       "    <tr>\n",
       "      <th>1</th>\n",
       "      <td>Tall Iced Coffee</td>\n",
       "      <td>Is Holiday</td>\n",
       "      <td>No</td>\n",
       "      <td>2</td>\n",
       "    </tr>\n",
       "    <tr>\n",
       "      <th>2</th>\n",
       "      <td>Tall Iced Coffee</td>\n",
       "      <td>Is Espresso Based</td>\n",
       "      <td>No</td>\n",
       "      <td>21</td>\n",
       "    </tr>\n",
       "    <tr>\n",
       "      <th>3</th>\n",
       "      <td>Tall Iced Coffee</td>\n",
       "      <td>Is Iced</td>\n",
       "      <td>Yes</td>\n",
       "      <td>18</td>\n",
       "    </tr>\n",
       "    <tr>\n",
       "      <th>4</th>\n",
       "      <td>Tall Iced Coffee</td>\n",
       "      <td>Is Frappucino</td>\n",
       "      <td>No</td>\n",
       "      <td>4</td>\n",
       "    </tr>\n",
       "    <tr>\n",
       "      <th>5</th>\n",
       "      <td>Tall Iced Coffee</td>\n",
       "      <td>Is Tea</td>\n",
       "      <td>No</td>\n",
       "      <td>29</td>\n",
       "    </tr>\n",
       "  </tbody>\n",
       "</table>\n",
       "</div>"
      ],
      "text/plain": [
       "                Set           Question Answer  Answer_ID\n",
       "0  Tall Iced Coffee               Size   Tall         11\n",
       "1  Tall Iced Coffee         Is Holiday     No          2\n",
       "2  Tall Iced Coffee  Is Espresso Based     No         21\n",
       "3  Tall Iced Coffee            Is Iced    Yes         18\n",
       "4  Tall Iced Coffee      Is Frappucino     No          4\n",
       "5  Tall Iced Coffee             Is Tea     No         29"
      ]
     },
     "metadata": {},
     "output_type": "display_data"
    }
   ],
   "source": [
    "result = graph.run(\"\"\"\n",
    "MATCH (s:Set { id: 1 })-->(a)<--(q)\n",
    "WHERE 'Question' IN labels(q)\n",
    "RETURN s.value AS Set, q.value as Question, a.value as Answer, a.id as Answer_ID\n",
    "\"\"\");\n",
    "table = result.to_data_frame(columns=['Set', 'Question', 'Answer', 'Answer_ID']);\n",
    "\n",
    "display(table);"
   ]
  },
  {
   "cell_type": "markdown",
   "metadata": {},
   "source": [
    "## Data Exploration\n",
    "\n",
    "Now we want to see how we can take an answer set and relate it back to our documents within the `Set` nodes.  The following query takes a group of answers and determines if a given `Set` is valid."
   ]
  },
  {
   "cell_type": "code",
   "execution_count": 11,
   "metadata": {},
   "outputs": [
    {
     "name": "stdout",
     "output_type": "stream",
     "text": [
      "Valid ID List:\n"
     ]
    },
    {
     "data": {
      "text/html": [
       "<div>\n",
       "<style scoped>\n",
       "    .dataframe tbody tr th:only-of-type {\n",
       "        vertical-align: middle;\n",
       "    }\n",
       "\n",
       "    .dataframe tbody tr th {\n",
       "        vertical-align: top;\n",
       "    }\n",
       "\n",
       "    .dataframe thead th {\n",
       "        text-align: right;\n",
       "    }\n",
       "</style>\n",
       "<table border=\"1\" class=\"dataframe\">\n",
       "  <thead>\n",
       "    <tr style=\"text-align: right;\">\n",
       "      <th></th>\n",
       "      <th>Result</th>\n",
       "    </tr>\n",
       "  </thead>\n",
       "  <tbody>\n",
       "    <tr>\n",
       "      <th>0</th>\n",
       "      <td>True</td>\n",
       "    </tr>\n",
       "  </tbody>\n",
       "</table>\n",
       "</div>"
      ],
      "text/plain": [
       "   Result\n",
       "0    True"
      ]
     },
     "metadata": {},
     "output_type": "display_data"
    },
    {
     "name": "stdout",
     "output_type": "stream",
     "text": [
      "Invalid ID List:\n"
     ]
    },
    {
     "data": {
      "text/html": [
       "<div>\n",
       "<style scoped>\n",
       "    .dataframe tbody tr th:only-of-type {\n",
       "        vertical-align: middle;\n",
       "    }\n",
       "\n",
       "    .dataframe tbody tr th {\n",
       "        vertical-align: top;\n",
       "    }\n",
       "\n",
       "    .dataframe thead th {\n",
       "        text-align: right;\n",
       "    }\n",
       "</style>\n",
       "<table border=\"1\" class=\"dataframe\">\n",
       "  <thead>\n",
       "    <tr style=\"text-align: right;\">\n",
       "      <th></th>\n",
       "      <th>Result</th>\n",
       "    </tr>\n",
       "  </thead>\n",
       "  <tbody>\n",
       "    <tr>\n",
       "      <th>0</th>\n",
       "      <td>False</td>\n",
       "    </tr>\n",
       "  </tbody>\n",
       "</table>\n",
       "</div>"
      ],
      "text/plain": [
       "   Result\n",
       "0   False"
      ]
     },
     "metadata": {},
     "output_type": "display_data"
    }
   ],
   "source": [
    "def is_set_valid(set_id, answer_ids):\n",
    "    query_string = \"\"\"\n",
    "        MATCH (s:Set { id: $set_id })-[:GROUPS]->(a:Answer)\n",
    "        WHERE a.id IN $answer_ids\n",
    "        WITH collect(a) as answers\n",
    "        RETURN size(answers) = size($answer_ids) as Result\n",
    "    \"\"\"\n",
    "    template = Template(query_string);\n",
    "    query = template.substitute(set_id=set_id, answer_ids=answer_ids);\n",
    "    return graph.run(query);\n",
    "    \n",
    "MY_SET_ID = 5; # Grande Pumpkin Spice Frappucino\n",
    "MY_VALID_ANSWER_IDS = [1, 6, 12]; # you can change this to any list to test other answer ids\n",
    "# Is Holiday: Yes, Frappucino Flavor: Pumpkin Spice, Size: Grande\n",
    "MY_INVALID_ANSWER_IDS = [2, 6, 12]; # you can change this to any list to test other answer ids\n",
    "# Is Holiday: *NO*, Frappucino Flavor: Pumpkin Spice, Size: Grande\n",
    "\n",
    "valid_result = is_set_valid(MY_SET_ID, MY_VALID_ANSWER_IDS);\n",
    "invalid_result = is_set_valid(MY_SET_ID, MY_INVALID_ANSWER_IDS);\n",
    "\n",
    "print(\"Valid ID List:\");\n",
    "display(valid_result.to_data_frame());\n",
    "\n",
    "print(\"Invalid ID List:\");\n",
    "display(invalid_result.to_data_frame());"
   ]
  },
  {
   "cell_type": "markdown",
   "metadata": {},
   "source": [
    "This demonstrates the fact you can't get a Pimpkin Spice Frappucino outside of holiday periods."
   ]
  },
  {
   "cell_type": "markdown",
   "metadata": {},
   "source": [
    "### The concluding query.\n",
    "\n",
    "The most important question we want to ask our data is: _What are all valid `Set` nodes for a given list of answers?_  The following code will give us a list of available drinks by analyzing a list of answers in the decision tree."
   ]
  },
  {
   "cell_type": "code",
   "execution_count": 45,
   "metadata": {},
   "outputs": [
    {
     "name": "stdout",
     "output_type": "stream",
     "text": [
      "A Answers:\n"
     ]
    },
    {
     "data": {
      "text/html": [
       "<div>\n",
       "<style scoped>\n",
       "    .dataframe tbody tr th:only-of-type {\n",
       "        vertical-align: middle;\n",
       "    }\n",
       "\n",
       "    .dataframe tbody tr th {\n",
       "        vertical-align: top;\n",
       "    }\n",
       "\n",
       "    .dataframe thead th {\n",
       "        text-align: right;\n",
       "    }\n",
       "</style>\n",
       "<table border=\"1\" class=\"dataframe\">\n",
       "  <thead>\n",
       "    <tr style=\"text-align: right;\">\n",
       "      <th></th>\n",
       "      <th>ID</th>\n",
       "      <th>Question</th>\n",
       "      <th>Value</th>\n",
       "    </tr>\n",
       "  </thead>\n",
       "  <tbody>\n",
       "    <tr>\n",
       "      <th>0</th>\n",
       "      <td>4</td>\n",
       "      <td>Is Frappucino</td>\n",
       "      <td>No</td>\n",
       "    </tr>\n",
       "    <tr>\n",
       "      <th>1</th>\n",
       "      <td>2</td>\n",
       "      <td>Is Holiday</td>\n",
       "      <td>No</td>\n",
       "    </tr>\n",
       "    <tr>\n",
       "      <th>2</th>\n",
       "      <td>11</td>\n",
       "      <td>Size</td>\n",
       "      <td>Tall</td>\n",
       "    </tr>\n",
       "  </tbody>\n",
       "</table>\n",
       "</div>"
      ],
      "text/plain": [
       "   ID       Question Value\n",
       "0   4  Is Frappucino    No\n",
       "1   2     Is Holiday    No\n",
       "2  11           Size  Tall"
      ]
     },
     "metadata": {},
     "output_type": "display_data"
    },
    {
     "name": "stdout",
     "output_type": "stream",
     "text": [
      "A Drinks:\n"
     ]
    },
    {
     "data": {
      "text/plain": [
       "[[1, 'Tall Iced Coffee'], [4, 'Tall Fuzzy Peach Tea']]"
      ]
     },
     "metadata": {},
     "output_type": "display_data"
    },
    {
     "name": "stdout",
     "output_type": "stream",
     "text": [
      "\n",
      "B Answers:\n"
     ]
    },
    {
     "data": {
      "text/html": [
       "<div>\n",
       "<style scoped>\n",
       "    .dataframe tbody tr th:only-of-type {\n",
       "        vertical-align: middle;\n",
       "    }\n",
       "\n",
       "    .dataframe tbody tr th {\n",
       "        vertical-align: top;\n",
       "    }\n",
       "\n",
       "    .dataframe thead th {\n",
       "        text-align: right;\n",
       "    }\n",
       "</style>\n",
       "<table border=\"1\" class=\"dataframe\">\n",
       "  <thead>\n",
       "    <tr style=\"text-align: right;\">\n",
       "      <th></th>\n",
       "      <th>ID</th>\n",
       "      <th>Question</th>\n",
       "      <th>Value</th>\n",
       "    </tr>\n",
       "  </thead>\n",
       "  <tbody>\n",
       "    <tr>\n",
       "      <th>0</th>\n",
       "      <td>2</td>\n",
       "      <td>Is Holiday</td>\n",
       "      <td>No</td>\n",
       "    </tr>\n",
       "    <tr>\n",
       "      <th>1</th>\n",
       "      <td>11</td>\n",
       "      <td>Size</td>\n",
       "      <td>Tall</td>\n",
       "    </tr>\n",
       "    <tr>\n",
       "      <th>2</th>\n",
       "      <td>4</td>\n",
       "      <td>Is Frappucino</td>\n",
       "      <td>No</td>\n",
       "    </tr>\n",
       "    <tr>\n",
       "      <th>3</th>\n",
       "      <td>28</td>\n",
       "      <td>Is Tea</td>\n",
       "      <td>Yes</td>\n",
       "    </tr>\n",
       "  </tbody>\n",
       "</table>\n",
       "</div>"
      ],
      "text/plain": [
       "   ID       Question Value\n",
       "0   2     Is Holiday    No\n",
       "1  11           Size  Tall\n",
       "2   4  Is Frappucino    No\n",
       "3  28         Is Tea   Yes"
      ]
     },
     "metadata": {},
     "output_type": "display_data"
    },
    {
     "name": "stdout",
     "output_type": "stream",
     "text": [
      "B Drinks:\n"
     ]
    },
    {
     "data": {
      "text/plain": [
       "[[4, 'Tall Fuzzy Peach Tea']]"
      ]
     },
     "metadata": {},
     "output_type": "display_data"
    }
   ],
   "source": [
    "def get_answers(answer_ids):\n",
    "    query_string = \"\"\"\n",
    "        MATCH (a:Answer)<--(q:Question)\n",
    "        WHERE a.id IN $answer_ids\n",
    "        RETURN a.id AS ID, q.value as Question, a.value AS Value\n",
    "    \"\"\"\n",
    "    template = Template(query_string);\n",
    "    query = template.substitute(answer_ids=answer_ids);\n",
    "    return graph.run(query).to_data_frame();\n",
    "\n",
    "def match_sets(answer_ids):\n",
    "    query_string = \"\"\"\n",
    "        MATCH (s:Set)-[:GROUPS]->(a:Answer)\n",
    "        WHERE a.id IN $answer_ids\n",
    "        WITH s, collect(a) as answers\n",
    "        WHERE size(answers) = size($answer_ids)\n",
    "        RETURN s\n",
    "    \"\"\"\n",
    "    template = Template(query_string);\n",
    "    query = template.substitute(answer_ids=answer_ids);\n",
    "    return graph.run(query);\n",
    "    \n",
    "EXAMPLE_A_ANSWERS = [2, 4, 11];\n",
    "EXAMPLE_B_ANSWERS = [2, 4, 11, 28];\n",
    "a_result_list = None;\n",
    "b_result_list = None;\n",
    "\n",
    "a_result = match_sets(EXAMPLE_A_ANSWERS);\n",
    "b_result = match_sets(EXAMPLE_B_ANSWERS);\n",
    "\n",
    "print(\"A Answers:\");\n",
    "display(get_answers(EXAMPLE_A_ANSWERS));\n",
    "\n",
    "print(\"A Drinks:\");\n",
    "a_nodes = a_result.to_subgraph();\n",
    "if a_nodes is not None:\n",
    "    a_result_list = list(a_nodes.nodes);\n",
    "    a_result_list = list(map(lambda n: [n['id'], n['value']], a_result_list));\n",
    "\n",
    "display(a_result_list or []);\n",
    "print(\"\");\n",
    "print(\"B Answers:\");\n",
    "display(get_answers(EXAMPLE_B_ANSWERS));\n",
    "\n",
    "print(\"B Drinks:\");\n",
    "b_nodes = b_result.to_subgraph();\n",
    "if b_nodes is not None:\n",
    "    b_result_list = list(b_nodes.nodes);\n",
    "    b_result_list = list(map(lambda n: [n['id'], n['value']], b_result_list));\n",
    "\n",
    "display(b_result_list or []);"
   ]
  },
  {
   "cell_type": "code",
   "execution_count": null,
   "metadata": {},
   "outputs": [],
   "source": []
  },
  {
   "cell_type": "code",
   "execution_count": null,
   "metadata": {},
   "outputs": [],
   "source": []
  }
 ],
 "metadata": {
  "kernelspec": {
   "display_name": "Python 3",
   "language": "python",
   "name": "python3"
  },
  "language_info": {
   "codemirror_mode": {
    "name": "ipython",
    "version": 3
   },
   "file_extension": ".py",
   "mimetype": "text/x-python",
   "name": "python",
   "nbconvert_exporter": "python",
   "pygments_lexer": "ipython3",
   "version": "3.7.0"
  }
 },
 "nbformat": 4,
 "nbformat_minor": 2
}
