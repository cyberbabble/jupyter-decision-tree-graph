{
 "cells": [
  {
   "cell_type": "markdown",
   "metadata": {},
   "source": [
    "# Decision Tree Data\n",
    "This notebook explores data taken from an Access Database and put into a graph format.  The data itself represents a series of questions along with possible answers.  There is additional data tying these questions and answers together to construct a tree-like structure.\n",
    "\n",
    "<div align=\"left\">\n",
    "    <img src=\"images/example_model.png\" alt=\"Graph Model\" width=\"700px\" align=\"center\"/>\n",
    "</div>\n",
    "\n",
    "The data within this notebook includes a sample decision tree revolving around choosing a drink as Starbucks.  The questions and answers take us through a series of choices, eventually landing on a drink order.\n",
    "\n",
    "## Let's Begin\n",
    "If you haven't already, please set up your computer by following instructions in the *README.md* file.  To start, we need to set up some initial variables to ensure we can connect to our graph database.  We will be able to use these variables later in our notebook."
   ]
  },
  {
   "cell_type": "code",
   "execution_count": 1,
   "metadata": {},
   "outputs": [],
   "source": [
    "import os\n",
    "from neo4j.v1 import GraphDatabase\n",
    "\n",
    "# Connect to our Graph database, ensure connectivity, and store connection in variable.\n",
    "graph = GraphDatabase.driver(\"bolt://localhost\", auth=(\"neo4j\", \"123changeme\"));\n",
    "\n",
    "# Set up a local path reference\n",
    "rel_path = os.getcwd()\n",
    "\n",
    "# If you want to clear your database and start fresh, uncomment the line below.\n",
    "# BE SURE TO CHECK WHAT DATABASE YOU ARE RUNNING THIS AGAINST.\n",
    "# MORE CAPITAL LETTERS TO EMPHASIZE THE POINT ABOVE.\n",
    "# with graph.session() as session: print(session.run(\"MATCH (d) DETACH DELETE (d)\").value())"
   ]
  },
  {
   "cell_type": "markdown",
   "metadata": {},
   "source": [
    "## Data CSV Files\n",
    "\n",
    "Here we are setting up variables pointing to the CSV files we have stored on our machine."
   ]
  },
  {
   "cell_type": "code",
   "execution_count": 29,
   "metadata": {},
   "outputs": [],
   "source": [
    "# These files contain all of the potential question, answers, and connections between nodes\n",
    "questions_file = os.path.join(rel_path, \"questions.csv\");\n",
    "answers_file = os.path.join(rel_path, \"answers.csv\");\n",
    "relationships_file = os.path.join(rel_path, \"relationships.csv\");"
   ]
  },
  {
   "cell_type": "markdown",
   "metadata": {},
   "source": [
    "Let's see what the structure of the data looks like by using the LOAD CSV comment in Neo4J. We will load each file and show the row of data as an example.\n",
    "\n",
    "**NOTE**: If you get an error running the command below, try commenting out the `dbms.directories.import` line in your graph databases configuration file.  You can access settings by clicking _Manage_ on your database in Neo4J and selecting the settings tab. Make sure to uncomment the line when you are done as this is not secure."
   ]
  },
  {
   "cell_type": "code",
   "execution_count": 30,
   "metadata": {},
   "outputs": [
    {
     "name": "stdout",
     "output_type": "stream",
     "text": [
      "Example questions:\n"
     ]
    },
    {
     "data": {
      "text/plain": [
       "[['1', 'Is Holiday'],\n",
       " ['2', 'Is Frappucino'],\n",
       " ['3', 'Frappucino Flavor'],\n",
       " ['4', 'Size'],\n",
       " ['5', 'Is Espresso Based']]"
      ]
     },
     "metadata": {},
     "output_type": "display_data"
    },
    {
     "name": "stdout",
     "output_type": "stream",
     "text": [
      "Example answers:\n"
     ]
    },
    {
     "data": {
      "text/plain": [
       "[['1', 'Yes'],\n",
       " ['2', 'No'],\n",
       " ['3', 'Yes'],\n",
       " ['4', 'No'],\n",
       " ['5', 'Strawberries & Crème']]"
      ]
     },
     "metadata": {},
     "output_type": "display_data"
    },
    {
     "name": "stdout",
     "output_type": "stream",
     "text": [
      "Example relationships:\n"
     ]
    },
    {
     "data": {
      "text/plain": [
       "[['1', '1', 'true'],\n",
       " ['1', '2', 'true'],\n",
       " ['2', '3', 'true'],\n",
       " ['2', '4', 'true'],\n",
       " ['3', '5', 'true']]"
      ]
     },
     "metadata": {},
     "output_type": "display_data"
    }
   ],
   "source": [
    "csv_query = \"\"\"LOAD CSV FROM $file AS row RETURN row LIMIT 5 \"\"\"\n",
    "with graph.session() as session:\n",
    "    print(\"Example questions:\");\n",
    "    display(session.run(csv_query, { \"file\": \"file:\" + questions_file }).value())\n",
    "    print(\"Example answers:\");\n",
    "    display(session.run(csv_query, { \"file\": \"file:\" + answers_file }).value())\n",
    "    print(\"Example relationships:\");\n",
    "    display(session.run(csv_query, { \"file\": \"file:\" + relationships_file }).value())"
   ]
  },
  {
   "cell_type": "markdown",
   "metadata": {},
   "source": [
    "The question, and answer files contains a simple list of IDs and values.  The relationships file contain pointer IDs to and from either a question or answer.  The third column in the relationships file signifies if the start node is a question."
   ]
  },
  {
   "cell_type": "markdown",
   "metadata": {},
   "source": [
    "## Importing Data\n",
    "\n",
    "Now we need to take the data inside our CSV files and connect them in a graph database.  The following code will run through all files and create the nodes and relationships.  We will rely on Python to open our CSV file and loop through each line and entry in our file.  Note - there are various ways of doing this.  This method should not be used in a production environment demanding performance.  Try using the [`LOAD CSV`](https://neo4j.com/blog/bulk-data-import-neo4j-3-0/) command for bulk data importing.\n",
    "\n",
    "Let this block run until you see 'Data Loaded!'.  It should only take a few seconds due to the low volume of data.  You can run this as many times as you want.  The queries generated utilize `MERGE` to ensure it only creates a node when it does not find one matching the properties list."
   ]
  },
  {
   "cell_type": "code",
   "execution_count": 27,
   "metadata": {
    "scrolled": true
   },
   "outputs": [
    {
     "name": "stdout",
     "output_type": "stream",
     "text": [
      "Queries created... Running.\n"
     ]
    },
    {
     "data": {
      "text/plain": [
       "{}"
      ]
     },
     "metadata": {},
     "output_type": "display_data"
    },
    {
     "data": {
      "text/plain": [
       "{}"
      ]
     },
     "metadata": {},
     "output_type": "display_data"
    },
    {
     "data": {
      "text/plain": [
       "{}"
      ]
     },
     "metadata": {},
     "output_type": "display_data"
    },
    {
     "data": {
      "text/plain": [
       "{}"
      ]
     },
     "metadata": {},
     "output_type": "display_data"
    },
    {
     "data": {
      "text/plain": [
       "{'labels_added': 1, 'nodes_created': 1, 'properties_set': 2}"
      ]
     },
     "metadata": {},
     "output_type": "display_data"
    },
    {
     "data": {
      "text/plain": [
       "{'labels_added': 1, 'nodes_created': 1, 'properties_set': 2}"
      ]
     },
     "metadata": {},
     "output_type": "display_data"
    },
    {
     "data": {
      "text/plain": [
       "{'labels_added': 1, 'nodes_created': 1, 'properties_set': 2}"
      ]
     },
     "metadata": {},
     "output_type": "display_data"
    },
    {
     "data": {
      "text/plain": [
       "{'labels_added': 1, 'nodes_created': 1, 'properties_set': 2}"
      ]
     },
     "metadata": {},
     "output_type": "display_data"
    },
    {
     "data": {
      "text/plain": [
       "{'labels_added': 1, 'nodes_created': 1, 'properties_set': 2}"
      ]
     },
     "metadata": {},
     "output_type": "display_data"
    },
    {
     "data": {
      "text/plain": [
       "{'labels_added': 1, 'nodes_created': 1, 'properties_set': 2}"
      ]
     },
     "metadata": {},
     "output_type": "display_data"
    },
    {
     "data": {
      "text/plain": [
       "{'labels_added': 1, 'nodes_created': 1, 'properties_set': 2}"
      ]
     },
     "metadata": {},
     "output_type": "display_data"
    },
    {
     "data": {
      "text/plain": [
       "{'labels_added': 1, 'nodes_created': 1, 'properties_set': 2}"
      ]
     },
     "metadata": {},
     "output_type": "display_data"
    },
    {
     "data": {
      "text/plain": [
       "{'labels_added': 1, 'nodes_created': 1, 'properties_set': 2}"
      ]
     },
     "metadata": {},
     "output_type": "display_data"
    },
    {
     "data": {
      "text/plain": [
       "{'labels_added': 1, 'nodes_created': 1, 'properties_set': 2}"
      ]
     },
     "metadata": {},
     "output_type": "display_data"
    },
    {
     "data": {
      "text/plain": [
       "{'labels_added': 1, 'nodes_created': 1, 'properties_set': 2}"
      ]
     },
     "metadata": {},
     "output_type": "display_data"
    },
    {
     "data": {
      "text/plain": [
       "{'labels_added': 1, 'nodes_created': 1, 'properties_set': 2}"
      ]
     },
     "metadata": {},
     "output_type": "display_data"
    },
    {
     "data": {
      "text/plain": [
       "{'labels_added': 1, 'nodes_created': 1, 'properties_set': 2}"
      ]
     },
     "metadata": {},
     "output_type": "display_data"
    },
    {
     "data": {
      "text/plain": [
       "{'labels_added': 1, 'nodes_created': 1, 'properties_set': 2}"
      ]
     },
     "metadata": {},
     "output_type": "display_data"
    },
    {
     "data": {
      "text/plain": [
       "{'labels_added': 1, 'nodes_created': 1, 'properties_set': 2}"
      ]
     },
     "metadata": {},
     "output_type": "display_data"
    },
    {
     "data": {
      "text/plain": [
       "{'labels_added': 1, 'nodes_created': 1, 'properties_set': 2}"
      ]
     },
     "metadata": {},
     "output_type": "display_data"
    },
    {
     "data": {
      "text/plain": [
       "{'labels_added': 1, 'nodes_created': 1, 'properties_set': 2}"
      ]
     },
     "metadata": {},
     "output_type": "display_data"
    },
    {
     "data": {
      "text/plain": [
       "{'labels_added': 1, 'nodes_created': 1, 'properties_set': 2}"
      ]
     },
     "metadata": {},
     "output_type": "display_data"
    },
    {
     "data": {
      "text/plain": [
       "{'labels_added': 1, 'nodes_created': 1, 'properties_set': 2}"
      ]
     },
     "metadata": {},
     "output_type": "display_data"
    },
    {
     "data": {
      "text/plain": [
       "{'labels_added': 1, 'nodes_created': 1, 'properties_set': 2}"
      ]
     },
     "metadata": {},
     "output_type": "display_data"
    },
    {
     "data": {
      "text/plain": [
       "{'labels_added': 1, 'nodes_created': 1, 'properties_set': 2}"
      ]
     },
     "metadata": {},
     "output_type": "display_data"
    },
    {
     "data": {
      "text/plain": [
       "{'labels_added': 1, 'nodes_created': 1, 'properties_set': 2}"
      ]
     },
     "metadata": {},
     "output_type": "display_data"
    },
    {
     "data": {
      "text/plain": [
       "{'labels_added': 1, 'nodes_created': 1, 'properties_set': 2}"
      ]
     },
     "metadata": {},
     "output_type": "display_data"
    },
    {
     "data": {
      "text/plain": [
       "{'labels_added': 1, 'nodes_created': 1, 'properties_set': 2}"
      ]
     },
     "metadata": {},
     "output_type": "display_data"
    },
    {
     "data": {
      "text/plain": [
       "{'labels_added': 1, 'nodes_created': 1, 'properties_set': 2}"
      ]
     },
     "metadata": {},
     "output_type": "display_data"
    },
    {
     "data": {
      "text/plain": [
       "{'labels_added': 1, 'nodes_created': 1, 'properties_set': 2}"
      ]
     },
     "metadata": {},
     "output_type": "display_data"
    },
    {
     "data": {
      "text/plain": [
       "{'labels_added': 1, 'nodes_created': 1, 'properties_set': 2}"
      ]
     },
     "metadata": {},
     "output_type": "display_data"
    },
    {
     "data": {
      "text/plain": [
       "{'labels_added': 1, 'nodes_created': 1, 'properties_set': 2}"
      ]
     },
     "metadata": {},
     "output_type": "display_data"
    },
    {
     "data": {
      "text/plain": [
       "{'labels_added': 1, 'nodes_created': 1, 'properties_set': 2}"
      ]
     },
     "metadata": {},
     "output_type": "display_data"
    },
    {
     "data": {
      "text/plain": [
       "{'labels_added': 1, 'nodes_created': 1, 'properties_set': 2}"
      ]
     },
     "metadata": {},
     "output_type": "display_data"
    },
    {
     "data": {
      "text/plain": [
       "{'labels_added': 1, 'nodes_created': 1, 'properties_set': 2}"
      ]
     },
     "metadata": {},
     "output_type": "display_data"
    },
    {
     "data": {
      "text/plain": [
       "{'labels_added': 1, 'nodes_created': 1, 'properties_set': 2}"
      ]
     },
     "metadata": {},
     "output_type": "display_data"
    },
    {
     "data": {
      "text/plain": [
       "{'labels_added': 1, 'nodes_created': 1, 'properties_set': 2}"
      ]
     },
     "metadata": {},
     "output_type": "display_data"
    },
    {
     "data": {
      "text/plain": [
       "{'labels_added': 1, 'nodes_created': 1, 'properties_set': 2}"
      ]
     },
     "metadata": {},
     "output_type": "display_data"
    },
    {
     "data": {
      "text/plain": [
       "{'labels_added': 1, 'nodes_created': 1, 'properties_set': 2}"
      ]
     },
     "metadata": {},
     "output_type": "display_data"
    },
    {
     "data": {
      "text/plain": [
       "{'labels_added': 1, 'nodes_created': 1, 'properties_set': 2}"
      ]
     },
     "metadata": {},
     "output_type": "display_data"
    },
    {
     "data": {
      "text/plain": [
       "{'labels_added': 1, 'nodes_created': 1, 'properties_set': 2}"
      ]
     },
     "metadata": {},
     "output_type": "display_data"
    },
    {
     "data": {
      "text/plain": [
       "{'labels_added': 1, 'nodes_created': 1, 'properties_set': 2}"
      ]
     },
     "metadata": {},
     "output_type": "display_data"
    },
    {
     "data": {
      "text/plain": [
       "{'labels_added': 1, 'nodes_created': 1, 'properties_set': 2}"
      ]
     },
     "metadata": {},
     "output_type": "display_data"
    },
    {
     "data": {
      "text/plain": [
       "{'labels_added': 1, 'nodes_created': 1, 'properties_set': 2}"
      ]
     },
     "metadata": {},
     "output_type": "display_data"
    },
    {
     "data": {
      "text/plain": [
       "{'labels_added': 1, 'nodes_created': 1, 'properties_set': 2}"
      ]
     },
     "metadata": {},
     "output_type": "display_data"
    },
    {
     "data": {
      "text/plain": [
       "{'labels_added': 1, 'nodes_created': 1, 'properties_set': 2}"
      ]
     },
     "metadata": {},
     "output_type": "display_data"
    },
    {
     "data": {
      "text/plain": [
       "{'labels_added': 1, 'nodes_created': 1, 'properties_set': 2}"
      ]
     },
     "metadata": {},
     "output_type": "display_data"
    },
    {
     "data": {
      "text/plain": [
       "{'labels_added': 1, 'nodes_created': 1, 'properties_set': 2}"
      ]
     },
     "metadata": {},
     "output_type": "display_data"
    },
    {
     "data": {
      "text/plain": [
       "{'labels_added': 1, 'nodes_created': 1, 'properties_set': 2}"
      ]
     },
     "metadata": {},
     "output_type": "display_data"
    },
    {
     "data": {
      "text/plain": [
       "{'labels_added': 1, 'nodes_created': 1, 'properties_set': 2}"
      ]
     },
     "metadata": {},
     "output_type": "display_data"
    },
    {
     "data": {
      "text/plain": [
       "{'relationships_created': 1}"
      ]
     },
     "metadata": {},
     "output_type": "display_data"
    },
    {
     "data": {
      "text/plain": [
       "{'relationships_created': 1}"
      ]
     },
     "metadata": {},
     "output_type": "display_data"
    },
    {
     "data": {
      "text/plain": [
       "{'relationships_created': 1}"
      ]
     },
     "metadata": {},
     "output_type": "display_data"
    },
    {
     "data": {
      "text/plain": [
       "{'relationships_created': 1}"
      ]
     },
     "metadata": {},
     "output_type": "display_data"
    },
    {
     "data": {
      "text/plain": [
       "{'relationships_created': 1}"
      ]
     },
     "metadata": {},
     "output_type": "display_data"
    },
    {
     "data": {
      "text/plain": [
       "{'relationships_created': 1}"
      ]
     },
     "metadata": {},
     "output_type": "display_data"
    },
    {
     "data": {
      "text/plain": [
       "{'relationships_created': 1}"
      ]
     },
     "metadata": {},
     "output_type": "display_data"
    },
    {
     "data": {
      "text/plain": [
       "{'relationships_created': 1}"
      ]
     },
     "metadata": {},
     "output_type": "display_data"
    },
    {
     "data": {
      "text/plain": [
       "{'relationships_created': 1}"
      ]
     },
     "metadata": {},
     "output_type": "display_data"
    },
    {
     "data": {
      "text/plain": [
       "{'relationships_created': 1}"
      ]
     },
     "metadata": {},
     "output_type": "display_data"
    },
    {
     "data": {
      "text/plain": [
       "{'relationships_created': 1}"
      ]
     },
     "metadata": {},
     "output_type": "display_data"
    },
    {
     "data": {
      "text/plain": [
       "{'relationships_created': 1}"
      ]
     },
     "metadata": {},
     "output_type": "display_data"
    },
    {
     "data": {
      "text/plain": [
       "{'relationships_created': 1}"
      ]
     },
     "metadata": {},
     "output_type": "display_data"
    },
    {
     "data": {
      "text/plain": [
       "{'relationships_created': 1}"
      ]
     },
     "metadata": {},
     "output_type": "display_data"
    },
    {
     "data": {
      "text/plain": [
       "{'relationships_created': 1}"
      ]
     },
     "metadata": {},
     "output_type": "display_data"
    },
    {
     "data": {
      "text/plain": [
       "{'relationships_created': 1}"
      ]
     },
     "metadata": {},
     "output_type": "display_data"
    },
    {
     "data": {
      "text/plain": [
       "{'relationships_created': 1}"
      ]
     },
     "metadata": {},
     "output_type": "display_data"
    },
    {
     "data": {
      "text/plain": [
       "{'relationships_created': 1}"
      ]
     },
     "metadata": {},
     "output_type": "display_data"
    },
    {
     "data": {
      "text/plain": [
       "{'relationships_created': 1}"
      ]
     },
     "metadata": {},
     "output_type": "display_data"
    },
    {
     "data": {
      "text/plain": [
       "{'relationships_created': 1}"
      ]
     },
     "metadata": {},
     "output_type": "display_data"
    },
    {
     "data": {
      "text/plain": [
       "{'relationships_created': 1}"
      ]
     },
     "metadata": {},
     "output_type": "display_data"
    },
    {
     "data": {
      "text/plain": [
       "{'relationships_created': 1}"
      ]
     },
     "metadata": {},
     "output_type": "display_data"
    },
    {
     "data": {
      "text/plain": [
       "{'relationships_created': 1}"
      ]
     },
     "metadata": {},
     "output_type": "display_data"
    },
    {
     "data": {
      "text/plain": [
       "{'relationships_created': 1}"
      ]
     },
     "metadata": {},
     "output_type": "display_data"
    },
    {
     "data": {
      "text/plain": [
       "{'relationships_created': 1}"
      ]
     },
     "metadata": {},
     "output_type": "display_data"
    },
    {
     "data": {
      "text/plain": [
       "{'relationships_created': 1}"
      ]
     },
     "metadata": {},
     "output_type": "display_data"
    },
    {
     "data": {
      "text/plain": [
       "{'relationships_created': 1}"
      ]
     },
     "metadata": {},
     "output_type": "display_data"
    },
    {
     "data": {
      "text/plain": [
       "{'relationships_created': 1}"
      ]
     },
     "metadata": {},
     "output_type": "display_data"
    },
    {
     "data": {
      "text/plain": [
       "{'relationships_created': 1}"
      ]
     },
     "metadata": {},
     "output_type": "display_data"
    },
    {
     "data": {
      "text/plain": [
       "{'relationships_created': 1}"
      ]
     },
     "metadata": {},
     "output_type": "display_data"
    },
    {
     "data": {
      "text/plain": [
       "{'relationships_created': 1}"
      ]
     },
     "metadata": {},
     "output_type": "display_data"
    },
    {
     "data": {
      "text/plain": [
       "{'relationships_created': 1}"
      ]
     },
     "metadata": {},
     "output_type": "display_data"
    },
    {
     "data": {
      "text/plain": [
       "{'relationships_created': 1}"
      ]
     },
     "metadata": {},
     "output_type": "display_data"
    },
    {
     "data": {
      "text/plain": [
       "{'relationships_created': 1}"
      ]
     },
     "metadata": {},
     "output_type": "display_data"
    },
    {
     "data": {
      "text/plain": [
       "{'relationships_created': 1}"
      ]
     },
     "metadata": {},
     "output_type": "display_data"
    },
    {
     "data": {
      "text/plain": [
       "{'relationships_created': 1}"
      ]
     },
     "metadata": {},
     "output_type": "display_data"
    },
    {
     "data": {
      "text/plain": [
       "{'relationships_created': 1}"
      ]
     },
     "metadata": {},
     "output_type": "display_data"
    },
    {
     "data": {
      "text/plain": [
       "{'relationships_created': 1}"
      ]
     },
     "metadata": {},
     "output_type": "display_data"
    },
    {
     "data": {
      "text/plain": [
       "{'relationships_created': 1}"
      ]
     },
     "metadata": {},
     "output_type": "display_data"
    },
    {
     "data": {
      "text/plain": [
       "{'relationships_created': 1}"
      ]
     },
     "metadata": {},
     "output_type": "display_data"
    },
    {
     "data": {
      "text/plain": [
       "{'relationships_created': 1}"
      ]
     },
     "metadata": {},
     "output_type": "display_data"
    },
    {
     "data": {
      "text/plain": [
       "{'relationships_created': 1}"
      ]
     },
     "metadata": {},
     "output_type": "display_data"
    },
    {
     "data": {
      "text/plain": [
       "{'relationships_created': 1}"
      ]
     },
     "metadata": {},
     "output_type": "display_data"
    },
    {
     "data": {
      "text/plain": [
       "{'relationships_created': 1}"
      ]
     },
     "metadata": {},
     "output_type": "display_data"
    },
    {
     "data": {
      "text/plain": [
       "{'relationships_created': 1}"
      ]
     },
     "metadata": {},
     "output_type": "display_data"
    },
    {
     "data": {
      "text/plain": [
       "{'relationships_created': 1}"
      ]
     },
     "metadata": {},
     "output_type": "display_data"
    },
    {
     "data": {
      "text/plain": [
       "{'relationships_created': 1}"
      ]
     },
     "metadata": {},
     "output_type": "display_data"
    },
    {
     "data": {
      "text/plain": [
       "{'relationships_created': 1}"
      ]
     },
     "metadata": {},
     "output_type": "display_data"
    },
    {
     "data": {
      "text/plain": [
       "{'relationships_created': 1}"
      ]
     },
     "metadata": {},
     "output_type": "display_data"
    },
    {
     "data": {
      "text/plain": [
       "{'relationships_created': 1}"
      ]
     },
     "metadata": {},
     "output_type": "display_data"
    },
    {
     "data": {
      "text/plain": [
       "{'relationships_created': 1}"
      ]
     },
     "metadata": {},
     "output_type": "display_data"
    },
    {
     "data": {
      "text/plain": [
       "{'relationships_created': 1}"
      ]
     },
     "metadata": {},
     "output_type": "display_data"
    },
    {
     "data": {
      "text/plain": [
       "{'relationships_created': 1}"
      ]
     },
     "metadata": {},
     "output_type": "display_data"
    },
    {
     "data": {
      "text/plain": [
       "{'relationships_created': 1}"
      ]
     },
     "metadata": {},
     "output_type": "display_data"
    },
    {
     "data": {
      "text/plain": [
       "{'relationships_created': 1}"
      ]
     },
     "metadata": {},
     "output_type": "display_data"
    },
    {
     "data": {
      "text/plain": [
       "{'relationships_created': 1}"
      ]
     },
     "metadata": {},
     "output_type": "display_data"
    },
    {
     "data": {
      "text/plain": [
       "{'relationships_created': 1}"
      ]
     },
     "metadata": {},
     "output_type": "display_data"
    },
    {
     "data": {
      "text/plain": [
       "{'relationships_created': 1}"
      ]
     },
     "metadata": {},
     "output_type": "display_data"
    },
    {
     "data": {
      "text/plain": [
       "{'relationships_created': 1}"
      ]
     },
     "metadata": {},
     "output_type": "display_data"
    },
    {
     "data": {
      "text/plain": [
       "{'relationships_created': 1}"
      ]
     },
     "metadata": {},
     "output_type": "display_data"
    },
    {
     "data": {
      "text/plain": [
       "{'relationships_created': 1}"
      ]
     },
     "metadata": {},
     "output_type": "display_data"
    },
    {
     "data": {
      "text/plain": [
       "{'relationships_created': 1}"
      ]
     },
     "metadata": {},
     "output_type": "display_data"
    },
    {
     "data": {
      "text/plain": [
       "{'relationships_created': 1}"
      ]
     },
     "metadata": {},
     "output_type": "display_data"
    },
    {
     "data": {
      "text/plain": [
       "{'relationships_created': 1}"
      ]
     },
     "metadata": {},
     "output_type": "display_data"
    },
    {
     "data": {
      "text/plain": [
       "{'relationships_created': 1}"
      ]
     },
     "metadata": {},
     "output_type": "display_data"
    },
    {
     "data": {
      "text/plain": [
       "{'relationships_created': 1}"
      ]
     },
     "metadata": {},
     "output_type": "display_data"
    },
    {
     "data": {
      "text/plain": [
       "{'relationships_created': 1}"
      ]
     },
     "metadata": {},
     "output_type": "display_data"
    },
    {
     "name": "stdout",
     "output_type": "stream",
     "text": [
      "Data Loaded!\n"
     ]
    }
   ],
   "source": [
    "from pandas import *\n",
    "from string import Template\n",
    "import multiprocessing.dummy as mp\n",
    "\n",
    "q_csv = read_csv(questions_file, header=None);\n",
    "a_csv = read_csv(answers_file, header=None);\n",
    "r_csv = read_csv(relationships_file, header=None);\n",
    "\n",
    "q_template = 'MERGE (n:Question { id: $id, value: \"$val\" }) ';\n",
    "a_template = 'MERGE (n:Answer { id: $id, value: \"$val\" }) ';\n",
    "q_to_a_template = 'MATCH (q:Question { id: $from_id }) MATCH (a:Answer { id: $to_id }) MERGE (q)-[:IS_CLASSIFIED_BY]->(a) ';\n",
    "a_to_q_template = 'MATCH (q:Question { id: $to_id }) MATCH (a:Answer { id: $from_id }) MERGE (a)-[:RESULTS_IN]->(q) ';\n",
    "create_queries = [];\n",
    "relate_queries = [];\n",
    "\n",
    "for i, row in enumerate(q_csv.values):\n",
    "    create_queries.append(Template(q_template).substitute(id=row[0], val=row[1]));\n",
    "\n",
    "for i, row in enumerate(a_csv.values):\n",
    "    create_queries.append(Template(a_template).substitute(id=row[0], val=row[1]));\n",
    "\n",
    "for i, row in enumerate(r_csv.values):\n",
    "    if row[2] is True:\n",
    "        relate_queries.append(Template(q_to_a_template).substitute(from_id=row[0], to_id=row[1]));\n",
    "    else:\n",
    "        relate_queries.append(Template(a_to_q_template).substitute(from_id=row[0], to_id=row[1]));\n",
    "\n",
    "print('Queries created... Running.');\n",
    "\n",
    "with graph.session() as session:\n",
    "    display(session.run(\"CREATE INDEX ON :Question(id,value)\").summary().counters);\n",
    "    display(session.run(\"CREATE INDEX ON :Answer(id,value)\").summary().counters);\n",
    "    display(session.run(\"CREATE CONSTRAINT ON (q:Question) ASSERT q.id IS UNIQUE\").summary().counters);\n",
    "    display(session.run(\"CREATE CONSTRAINT ON (a:Answer) ASSERT a.id IS UNIQUE\").summary().counters);\n",
    "\n",
    "def run_queries(q):\n",
    "    with graph.session() as session:\n",
    "        for i, query in enumerate(q):\n",
    "            display(session.run(query).summary().counters)\n",
    "\n",
    "run_queries(create_queries);\n",
    "run_queries(relate_queries);\n",
    "\n",
    "print('Data Loaded!');\n"
   ]
  },
  {
   "cell_type": "markdown",
   "metadata": {},
   "source": [
    "### Decision Tree Loaded\n",
    "\n",
    "We should now have our entire dataset loaded into our graph database.  Let's run a quick snippet of code to check our import.  Access your Neo4J browser by selecting 'Manage' on your database and clicking the 'Open Browser' button.\n",
    "\n",
    "Try running the following query: `MATCH (n) RETURN n`.  This query gives us everything in the database, nodes and relationships included.\n",
    "\n",
    "You should get output resembling the following:\n",
    "\n",
    "<div align=\"left\">\n",
    "    <img src=\"images/data_loaded.png\" alt=\"Graph Model\" width=\"700px\" align=\"center\"/>\n",
    "</div>"
   ]
  },
  {
   "cell_type": "markdown",
   "metadata": {},
   "source": [
    "#### What's Next?\n",
    "\n",
    "Now that we have our base decision tree imported, we can start asking the data questions.\n",
    "\n",
    "[Go to the next module >>](2%20-%20Exploring%20the%20Decision%20Tree.ipynb)"
   ]
  },
  {
   "cell_type": "code",
   "execution_count": null,
   "metadata": {},
   "outputs": [],
   "source": []
  }
 ],
 "metadata": {
  "kernelspec": {
   "display_name": "Python 3",
   "language": "python",
   "name": "python3"
  },
  "language_info": {
   "codemirror_mode": {
    "name": "ipython",
    "version": 3
   },
   "file_extension": ".py",
   "mimetype": "text/x-python",
   "name": "python",
   "nbconvert_exporter": "python",
   "pygments_lexer": "ipython3",
   "version": "3.7.0"
  }
 },
 "nbformat": 4,
 "nbformat_minor": 2
}
